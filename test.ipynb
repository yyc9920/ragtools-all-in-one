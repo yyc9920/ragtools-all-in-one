{
 "cells": [
  {
   "cell_type": "code",
   "execution_count": 1,
   "metadata": {},
   "outputs": [],
   "source": [
    "import os\n",
    "import chardet\n",
    "from langchain_text_splitters import CharacterTextSplitter, MarkdownHeaderTextSplitter\n",
    "\n",
    "\n",
    "def load_markdown(data_path):\n",
    "    with open(data_path, 'rb') as f:\n",
    "        result = chardet.detect(f.read())\n",
    "        encoding = result['encoding']\n",
    "\n",
    "    headers_to_split_on = [\n",
    "        (\"#\", \"Header 1\"),\n",
    "        (\"##\", \"Header 2\"),\n",
    "        (\"###\", \"Header 3\"),\n",
    "        (\"####\", \"Header 4\"),\n",
    "    ]\n",
    "    markdown_splitter = MarkdownHeaderTextSplitter(\n",
    "        headers_to_split_on=headers_to_split_on\n",
    "    )\n",
    "\n",
    "    with open(data_path, 'rt', encoding=encoding) as file:\n",
    "        data_string = file.read()\n",
    "        documents = markdown_splitter.split_text(data_string)\n",
    "\n",
    "        # 파일명을 metadata에 추가\n",
    "        domain = data_path  # os.path.basename(data_path)\n",
    "        for doc in documents:\n",
    "            if not doc.metadata:\n",
    "                doc.metadata = {}\n",
    "            doc.metadata[\"domain\"] = domain  # Document 객체의 metadata 속성에 파일명 추가\n",
    "\n",
    "        return documents\n",
    "\n",
    "\n",
    "def load_txt(data_path):\n",
    "    with open(data_path, 'rb') as f:\n",
    "        result = chardet.detect(f.read())\n",
    "        encoding = result['encoding']\n",
    "\n",
    "    text_splitter = CharacterTextSplitter(\n",
    "        separator=\"\\n\",\n",
    "        length_function=len,\n",
    "        is_separator_regex=False,\n",
    "    )\n",
    "\n",
    "    with open(data_path, 'r', encoding=encoding) as file:\n",
    "        data_string = file.read().split(\"\\n\")\n",
    "        domain = data_path  # os.path.basename(data_path)\n",
    "        documents = text_splitter.create_documents(data_string)\n",
    "\n",
    "        for doc in documents:\n",
    "            if not doc.metadata:\n",
    "                doc.metadata = {}\n",
    "            doc.metadata[\"domain\"] = domain  # Document 객체의 metadata 속성에 파일명 추가\n",
    "\n",
    "        return documents\n",
    "\n",
    "\n",
    "def load_general(base_dir):\n",
    "    data = []\n",
    "    cnt = 0\n",
    "    for root, dirs, files in os.walk(base_dir):\n",
    "        for file in files:\n",
    "            if \".txt\" in file:\n",
    "                cnt += 1\n",
    "                data += load_txt(os.path.join(root, file))\n",
    "\n",
    "    print(f\"the number of txt files is : {cnt}\")\n",
    "    return data\n",
    "\n",
    "\n",
    "def load_document(base_dir):\n",
    "    data = []\n",
    "    cnt = 0\n",
    "    for root, _, files in os.walk(base_dir):\n",
    "        for file in files:\n",
    "            if \".md\" in file:\n",
    "                cnt += 1\n",
    "                data += load_markdown(os.path.join(root, file))\n",
    "\n",
    "    print(f\"the number of md files is : {cnt}\")\n",
    "    return data\n",
    "\n"
   ]
  },
  {
   "cell_type": "code",
   "execution_count": 2,
   "metadata": {},
   "outputs": [],
   "source": [
    "def get_markdown_files(source_dir):\n",
    "    md_data = load_document(base_dir=source_dir)\n",
    "    text_data = load_general(base_dir=source_dir)\n",
    "\n",
    "    return md_data + text_data\n",
    "\n"
   ]
  },
  {
   "cell_type": "code",
   "execution_count": null,
   "metadata": {},
   "outputs": [],
   "source": [
    "from langchain_openai import ChatOpenAI, OpenAIEmbeddings\n",
    "from dotenv import load_dotenv\n",
    "from ragas.testset import TestsetGenerator\n",
    "from ragas.testset.synthesizers.abstract_query import ComparativeAbstractQuerySynthesizer\n",
    "# from ragas.testset.synthesizers.base import BaseSynthesizer\n",
    "# from ragas.testset.synthesizers.base_query import QuerySynthesizer\n",
    "from ragas.testset.synthesizers.specific_query import SpecificQuerySynthesizer\n",
    "from ragas.llms import LangchainLLMWrapper\n",
    "\n",
    "load_dotenv()\n",
    "\n",
    "generator_llm = ChatOpenAI(model=\"gpt-4o-mini\")\n",
    "ragas_llm = LangchainLLMWrapper(ChatOpenAI(model=\"gpt-4o-mini\"))\n",
    "# critic_llm = LangchainLLMWrapper(ChatOpenAI(model=\"gpt-4o\"))\n",
    "# embeddings = LangchainEmbeddingsWrapper(OpenAIEmbeddings())\n",
    "generator = TestsetGenerator.from_langchain(generator_llm)\n",
    "md_files = get_markdown_files(source_dir=\"/Users/yechanyun/YYC/work/project/AI_Application/rag/data/exynos-ai-studio-docs-main\")\n",
    "test_set = generator.generate_with_langchain_docs(md_files,\n",
    "                                                  testset_size=1,\n",
    "                                                  query_distribution=[\n",
    "                                                    (ComparativeAbstractQuerySynthesizer(llm=ragas_llm), 0.5),\n",
    "                                                    (SpecificQuerySynthesizer(llm=ragas_llm), 0.5),],\n",
    "                                                  with_debugging_logs=True)"
   ]
  },
  {
   "cell_type": "code",
   "execution_count": null,
   "metadata": {},
   "outputs": [],
   "source": [
    "test_set.dict()"
   ]
  },
  {
   "cell_type": "code",
   "execution_count": null,
   "metadata": {},
   "outputs": [],
   "source": [
    "evaluation_dataset = test_set.to_evaluation_dataset()\n",
    "evaluation_dataset\n",
    "print(evaluation_dataset.dict())"
   ]
  },
  {
   "cell_type": "code",
   "execution_count": 25,
   "metadata": {},
   "outputs": [],
   "source": [
    "evaluation_dataset.to_jsonl(\"./evaluation_dataset.jsonl\")"
   ]
  },
  {
   "cell_type": "code",
   "execution_count": 26,
   "metadata": {},
   "outputs": [],
   "source": [
    "test_set.to_jsonl(\"./testset.jsonl\")"
   ]
  },
  {
   "cell_type": "code",
   "execution_count": null,
   "metadata": {},
   "outputs": [],
   "source": [
    "from tsk_ragtools import text_gen as tg\n",
    "from ragas import EvaluationDataset\n",
    "\n",
    "evaluation_dataset = EvaluationDataset.from_jsonl('./evaluation_dataset.jsonl')\n",
    "evaluation_dataset_dict = evaluation_dataset.dict()\n",
    "\n",
    "for i, obj in enumerate(evaluation_dataset_dict[\"samples\"]):\n",
    "  print(\n",
    "    f\"\\rGenerating RAGAS json...({i+1}/{len(evaluation_dataset_dict['samples'])})\",\n",
    "    end=\"\",\n",
    "    flush=True,\n",
    "  )\n",
    "  response = tg.answer_question(obj[\"user_input\"])\n",
    "  obj.update({\"retrieved_contexts\": response[\"list\"], \"response\": response[\"response\"]})\n",
    "\n",
    "print(evaluation_dataset_dict)"
   ]
  },
  {
   "cell_type": "code",
   "execution_count": 4,
   "metadata": {},
   "outputs": [],
   "source": [
    "eval_dataset = EvaluationDataset.from_dict(mapping=evaluation_dataset_dict[\"samples\"])"
   ]
  },
  {
   "cell_type": "code",
   "execution_count": null,
   "metadata": {},
   "outputs": [],
   "source": [
    "from ragas.metrics import LLMContextRecall, Faithfulness, FactualCorrectness, SemanticSimilarity\n",
    "from ragas import evaluate\n",
    "\n",
    "from ragas.llms import LangchainLLMWrapper\n",
    "from langchain_openai import ChatOpenAI\n",
    "\n",
    "metrics = [LLMContextRecall(), FactualCorrectness(), Faithfulness()]\n",
    "metrics_names = [m.name for m in metrics]\n",
    "print(metrics_names)"
   ]
  },
  {
   "cell_type": "code",
   "execution_count": null,
   "metadata": {},
   "outputs": [],
   "source": [
    "import ragas.metrics as ragas_metrics\n",
    "\n",
    "metrics_candidates = [\"LLMContextRecall\", \"Faithfulness\", \"FactualCorrectness\", \"SemanticSimilarity\"]\n",
    "\n",
    "metrics = []\n",
    "\n",
    "for m in metrics_candidates:\n",
    "    metrics.append(getattr(ragas_metrics, m))\n",
    "\n",
    "metrics_names = [m.name for m in metrics]\n",
    "print(metrics_names)"
   ]
  },
  {
   "cell_type": "code",
   "execution_count": null,
   "metadata": {},
   "outputs": [],
   "source": [
    "results.to_pandas().to_dict()"
   ]
  },
  {
   "cell_type": "code",
   "execution_count": 1,
   "metadata": {},
   "outputs": [
    {
     "name": "stderr",
     "output_type": "stream",
     "text": [
      "c:\\work\\project\\AI_Application\\rag\\source\\ragtools-all-in-one\\Lib\\site-packages\\tqdm\\auto.py:21: TqdmWarning: IProgress not found. Please update jupyter and ipywidgets. See https://ipywidgets.readthedocs.io/en/stable/user_install.html\n",
      "  from .autonotebook import tqdm as notebook_tqdm\n",
      "c:\\work\\project\\AI_Application\\rag\\source\\ragtools-all-in-one\\Lib\\site-packages\\ragas\\prompt\\base.py:9: LangChainDeprecationWarning: As of langchain-core 0.3.0, LangChain uses pydantic v2 internally. The langchain_core.pydantic_v1 module was a compatibility shim for pydantic v1, and should no longer be used. Please update the code to import from Pydantic directly.\n",
      "\n",
      "For example, replace imports like: `from langchain_core.pydantic_v1 import BaseModel`\n",
      "with: `from pydantic import BaseModel`\n",
      "or the v1 compatibility namespace if you are working in a code base that has not been fully upgraded to pydantic 2 yet. \tfrom pydantic.v1 import BaseModel\n",
      "\n",
      "  from ragas.llms.prompt import PromptValue\n"
     ]
    },
    {
     "name": "stdout",
     "output_type": "stream",
     "text": [
      "{'Header 1': 'System requirement', 'Header 2': 'Software', 'location': 'C:\\\\work\\\\project\\\\AI_Application\\\\rag\\\\data\\\\exynos-ai-studio-docs-main\\\\system_requirements\\\\system_requirements.md'}\n"
     ]
    },
    {
     "name": "stderr",
     "output_type": "stream",
     "text": [
      "Generating Samples: 100%|██████████| 2/2 [00:09<00:00,  4.69s/it]                                                    \n"
     ]
    },
    {
     "name": "stdout",
     "output_type": "stream",
     "text": [
      "EvaluationDataset(features=['eval_sample', 'synthesizer_name'], len=2)\n"
     ]
    }
   ],
   "source": [
    "from actions.ragas_testset_creator import RagasTestsetCreator\n",
    "\n",
    "import logging\n",
    "\n",
    "logger = logging.getLogger(__name__)\n",
    "\n",
    "args = {\n",
    "    \"action\": \"createTestset\",\n",
    "    \"json_filename\": \".\\\\testset_with_context.json\",\n",
    "    \"csv_filename\": \"\",\n",
    "    \"basepath\": \"\",\n",
    "    \"gpt_model\": \"gpt-4o-mini\",\n",
    "    \"dataset_source_dir\": \"C:\\\\work\\\\project\\\\AI_Application\\\\rag\\\\data\\\\exynos-ai-studio-docs-main\",\n",
    "    \"testset_test_size\": 2,\n",
    "    \"testset_comparative_query_ratio\": 0.5,\n",
    "    \"testset_specific_query_ratio\": 0.5,\n",
    "    \"testset_filename\": \"testset.json\",\n",
    "    \"eval_result_filename\": \".\\\\eval_result.json\"\n",
    "}\n",
    "\n",
    "\n",
    "ragasTestsetCreator = RagasTestsetCreator(logger)\n",
    "test_set, generator = ragasTestsetCreator.main(args[\"dataset_source_dir\"],\n",
    "                            args[\"testset_test_size\"],\n",
    "                            args[\"testset_comparative_query_ratio\"],\n",
    "                            args[\"testset_specific_query_ratio\"],\n",
    "                            args[\"gpt_model\"],\n",
    "                            args[\"testset_filename\"])\n",
    "\n",
    "print(test_set)"
   ]
  },
  {
   "cell_type": "code",
   "execution_count": 6,
   "metadata": {},
   "outputs": [
    {
     "data": {
      "text/plain": [
       "TestsetSample(eval_sample=SingleTurnSample(user_input='What role does the NPU Simulator play in the ELT framework?', retrieved_contexts=None, reference_contexts=['ELT](elt/elt.md)\\n- [Model Analyzer](elt/model_analyzer/model_analyzer.md)\\n- [SCVT](elt/scvt/scvt.md)\\n- [Quantizer](elt/quantizer/quantizer.md)\\n- [NPU Simulator](elt/npu_simulator/npu_simulator.md)\\n- [Performance Estimator](elt/performance_estimator/performance_estimator.md)\\n- [Graph Generator](elt/graph_generator/graph_generator.md)\\n- ['], response=None, multi_responses=None, reference='The NPU Simulator plays a role in the ELT framework, although the specific details of its function are not provided in the context.', rubric=None), synthesizer_name='SpecificQuerySynthesizer')"
      ]
     },
     "execution_count": 6,
     "metadata": {},
     "output_type": "execute_result"
    }
   ],
   "source": [
    "test_set.samples[1]"
   ]
  },
  {
   "cell_type": "code",
   "execution_count": 9,
   "metadata": {},
   "outputs": [
    {
     "data": {
      "text/plain": [
       "[Node(id: f9e4f4, type: NodeType.DOCUMENT, properties: ['page_content', 'document_metadata', 'summary', 'headlines', 'summary_embedding', 'embedding', 'title', 'keyphrases']),\n",
       " Node(id: dd8576, type: NodeType.DOCUMENT, properties: ['page_content', 'document_metadata', 'summary', 'headlines', 'summary_embedding', 'title', 'embedding', 'keyphrases']),\n",
       " Node(id: 089a7d, type: NodeType.DOCUMENT, properties: ['page_content', 'document_metadata', 'headlines', 'summary', 'summary_embedding', 'embedding', 'title', 'keyphrases']),\n",
       " Node(id: 0f397a, type: NodeType.DOCUMENT, properties: ['page_content', 'document_metadata', 'headlines', 'summary', 'summary_embedding', 'embedding', 'title', 'keyphrases']),\n",
       " Node(id: 4481ee, type: NodeType.DOCUMENT, properties: ['page_content', 'document_metadata', 'headlines', 'summary', 'summary_embedding', 'embedding', 'title', 'keyphrases']),\n",
       " Node(id: 9a009c, type: NodeType.DOCUMENT, properties: ['page_content', 'document_metadata', 'summary', 'headlines', 'summary_embedding', 'embedding', 'title', 'keyphrases']),\n",
       " Node(id: 608e72, type: NodeType.DOCUMENT, properties: ['page_content', 'document_metadata', 'summary', 'headlines', 'summary_embedding', 'embedding', 'title', 'keyphrases']),\n",
       " Node(id: ce8254, type: NodeType.DOCUMENT, properties: ['page_content', 'document_metadata', 'summary', 'headlines', 'summary_embedding', 'embedding', 'title', 'keyphrases']),\n",
       " Node(id: 30949a, type: NodeType.DOCUMENT, properties: ['page_content', 'document_metadata', 'summary', 'headlines', 'summary_embedding', 'title', 'keyphrases', 'embedding']),\n",
       " Node(id: 36a0a1, type: NodeType.DOCUMENT, properties: ['page_content', 'document_metadata', 'summary', 'headlines', 'summary_embedding', 'embedding', 'title', 'keyphrases']),\n",
       " Node(id: b8f2ed, type: NodeType.DOCUMENT, properties: ['page_content', 'document_metadata', 'headlines', 'summary', 'summary_embedding', 'embedding', 'title', 'keyphrases']),\n",
       " Node(id: c4cf6f, type: NodeType.DOCUMENT, properties: ['page_content', 'document_metadata', 'headlines', 'summary', 'summary_embedding', 'embedding', 'title', 'keyphrases']),\n",
       " Node(id: 3bceec, type: NodeType.DOCUMENT, properties: ['page_content', 'document_metadata', 'headlines', 'summary', 'summary_embedding', 'title', 'embedding', 'keyphrases']),\n",
       " Node(id: 0ef2f1, type: NodeType.DOCUMENT, properties: ['page_content', 'document_metadata', 'summary', 'headlines', 'summary_embedding', 'embedding', 'title', 'keyphrases']),\n",
       " Node(id: 10c6d2, type: NodeType.DOCUMENT, properties: ['page_content', 'document_metadata', 'headlines', 'summary', 'summary_embedding', 'keyphrases', 'embedding', 'title']),\n",
       " Node(id: 73d72f, type: NodeType.DOCUMENT, properties: ['page_content', 'document_metadata', 'summary', 'headlines', 'summary_embedding', 'keyphrases', 'embedding', 'title']),\n",
       " Node(id: d0e243, type: NodeType.DOCUMENT, properties: ['page_content', 'document_metadata', 'summary', 'headlines', 'summary_embedding', 'keyphrases', 'title', 'embedding']),\n",
       " Node(id: 49b76a, type: NodeType.DOCUMENT, properties: ['page_content', 'document_metadata', 'summary', 'headlines', 'summary_embedding', 'keyphrases', 'embedding', 'title']),\n",
       " Node(id: 1b5241, type: NodeType.DOCUMENT, properties: ['page_content', 'document_metadata', 'summary', 'headlines', 'summary_embedding', 'embedding', 'keyphrases', 'title']),\n",
       " Node(id: 3b970c, type: NodeType.DOCUMENT, properties: ['page_content', 'document_metadata', 'headlines', 'summary', 'summary_embedding', 'embedding', 'keyphrases', 'title']),\n",
       " Node(id: 7d2dc6, type: NodeType.DOCUMENT, properties: ['page_content', 'document_metadata', 'headlines', 'summary', 'summary_embedding', 'keyphrases', 'embedding', 'title']),\n",
       " Node(id: 22a80e, type: NodeType.DOCUMENT, properties: ['page_content', 'document_metadata', 'headlines', 'summary', 'summary_embedding', 'title', 'embedding', 'keyphrases']),\n",
       " Node(id: 592ff4, type: NodeType.DOCUMENT, properties: ['page_content', 'document_metadata', 'summary', 'headlines', 'summary_embedding', 'embedding', 'title', 'keyphrases']),\n",
       " Node(id: 08571b, type: NodeType.DOCUMENT, properties: ['page_content', 'document_metadata', 'summary', 'headlines', 'summary_embedding', 'title', 'embedding', 'keyphrases']),\n",
       " Node(id: 5461f5, type: NodeType.DOCUMENT, properties: ['page_content', 'document_metadata', 'summary', 'headlines', 'summary_embedding', 'title', 'keyphrases', 'embedding']),\n",
       " Node(id: 6602b6, type: NodeType.DOCUMENT, properties: ['page_content', 'document_metadata', 'summary', 'headlines', 'summary_embedding', 'title', 'keyphrases', 'embedding']),\n",
       " Node(id: 6530d3, type: NodeType.DOCUMENT, properties: ['page_content', 'document_metadata', 'summary', 'headlines', 'summary_embedding', 'title', 'keyphrases', 'embedding']),\n",
       " Node(id: 89a6b3, type: NodeType.DOCUMENT, properties: ['page_content', 'document_metadata', 'headlines', 'summary', 'summary_embedding', 'title', 'keyphrases', 'embedding']),\n",
       " Node(id: 636204, type: NodeType.DOCUMENT, properties: ['page_content', 'document_metadata', 'headlines', 'summary', 'summary_embedding', 'title', 'keyphrases', 'embedding']),\n",
       " Node(id: bacf38, type: NodeType.DOCUMENT, properties: ['page_content', 'document_metadata', 'headlines', 'summary', 'summary_embedding', 'title', 'keyphrases', 'embedding']),\n",
       " Node(id: 26451e, type: NodeType.DOCUMENT, properties: ['page_content', 'document_metadata', 'summary', 'headlines', 'summary_embedding', 'title', 'keyphrases', 'embedding']),\n",
       " Node(id: 4d50f3, type: NodeType.DOCUMENT, properties: ['page_content', 'document_metadata', 'summary', 'headlines', 'summary_embedding', 'title', 'keyphrases', 'embedding']),\n",
       " Node(id: b1d4fe, type: NodeType.DOCUMENT, properties: ['page_content', 'document_metadata', 'summary', 'headlines', 'summary_embedding', 'title', 'keyphrases', 'embedding']),\n",
       " Node(id: c91e52, type: NodeType.DOCUMENT, properties: ['page_content', 'document_metadata', 'summary', 'headlines', 'summary_embedding', 'title', 'keyphrases', 'embedding']),\n",
       " Node(id: 993a5b, type: NodeType.DOCUMENT, properties: ['page_content', 'document_metadata', 'summary', 'headlines', 'summary_embedding', 'title', 'keyphrases', 'embedding']),\n",
       " Node(id: 97f751, type: NodeType.DOCUMENT, properties: ['page_content', 'document_metadata', 'summary', 'headlines', 'summary_embedding', 'title', 'keyphrases', 'embedding']),\n",
       " Node(id: a93fff, type: NodeType.DOCUMENT, properties: ['page_content', 'document_metadata', 'headlines', 'summary', 'summary_embedding', 'title', 'keyphrases', 'embedding']),\n",
       " Node(id: e6d48c, type: NodeType.CHUNK, properties: ['page_content', 'title', 'keyphrases', 'embedding']),\n",
       " Node(id: acdffa, type: NodeType.CHUNK, properties: ['page_content', 'title', 'keyphrases', 'embedding']),\n",
       " Node(id: c3335a, type: NodeType.CHUNK, properties: ['page_content', 'title', 'keyphrases', 'embedding']),\n",
       " Node(id: 502e6e, type: NodeType.CHUNK, properties: ['page_content', 'title', 'keyphrases', 'embedding']),\n",
       " Node(id: 5233b0, type: NodeType.CHUNK, properties: ['page_content', 'embedding', 'title', 'keyphrases']),\n",
       " Node(id: e2383b, type: NodeType.CHUNK, properties: ['page_content', 'embedding', 'title', 'keyphrases']),\n",
       " Node(id: b50d58, type: NodeType.CHUNK, properties: ['page_content', 'embedding', 'title', 'keyphrases']),\n",
       " Node(id: 68b8c4, type: NodeType.CHUNK, properties: ['page_content', 'embedding', 'title', 'keyphrases']),\n",
       " Node(id: d08d3e, type: NodeType.CHUNK, properties: ['page_content', 'embedding', 'title', 'keyphrases']),\n",
       " Node(id: afb4d0, type: NodeType.CHUNK, properties: ['page_content', 'embedding', 'title', 'keyphrases']),\n",
       " Node(id: 233c1b, type: NodeType.CHUNK, properties: ['page_content', 'embedding', 'title', 'keyphrases']),\n",
       " Node(id: dcb708, type: NodeType.CHUNK, properties: ['page_content', 'keyphrases', 'embedding', 'title']),\n",
       " Node(id: 8a9f35, type: NodeType.CHUNK, properties: ['page_content', 'keyphrases', 'embedding', 'title']),\n",
       " Node(id: 5e71e8, type: NodeType.CHUNK, properties: ['page_content', 'keyphrases', 'embedding', 'title']),\n",
       " Node(id: 80e195, type: NodeType.CHUNK, properties: ['page_content', 'keyphrases', 'embedding', 'title']),\n",
       " Node(id: 5e8735, type: NodeType.CHUNK, properties: ['page_content', 'keyphrases', 'embedding', 'title']),\n",
       " Node(id: 87e8fb, type: NodeType.CHUNK, properties: ['page_content', 'keyphrases', 'embedding', 'title']),\n",
       " Node(id: 7880f8, type: NodeType.CHUNK, properties: ['page_content', 'keyphrases', 'embedding', 'title']),\n",
       " Node(id: a33363, type: NodeType.CHUNK, properties: ['page_content', 'title', 'keyphrases', 'embedding']),\n",
       " Node(id: 75495c, type: NodeType.CHUNK, properties: ['page_content', 'title', 'keyphrases', 'embedding']),\n",
       " Node(id: 92e4de, type: NodeType.CHUNK, properties: ['page_content', 'title', 'keyphrases', 'embedding']),\n",
       " Node(id: b188e6, type: NodeType.CHUNK, properties: ['page_content', 'title', 'keyphrases', 'embedding']),\n",
       " Node(id: 080a52, type: NodeType.CHUNK, properties: ['page_content', 'title', 'keyphrases', 'embedding']),\n",
       " Node(id: de8467, type: NodeType.CHUNK, properties: ['page_content', 'title', 'keyphrases', 'embedding']),\n",
       " Node(id: d949ac, type: NodeType.CHUNK, properties: ['page_content', 'title', 'keyphrases', 'embedding']),\n",
       " Node(id: 32c364, type: NodeType.CHUNK, properties: ['page_content', 'title', 'keyphrases', 'embedding']),\n",
       " Node(id: 7e0ed6, type: NodeType.CHUNK, properties: ['page_content', 'title', 'keyphrases', 'embedding']),\n",
       " Node(id: 04fed2, type: NodeType.CHUNK, properties: ['page_content', 'title', 'keyphrases', 'embedding']),\n",
       " Node(id: 0c2e25, type: NodeType.CHUNK, properties: ['page_content', 'title', 'keyphrases', 'embedding']),\n",
       " Node(id: 9fa5f2, type: NodeType.CHUNK, properties: ['page_content', 'title', 'keyphrases', 'embedding']),\n",
       " Node(id: f2fdc2, type: NodeType.CHUNK, properties: ['page_content', 'title', 'keyphrases', 'embedding']),\n",
       " Node(id: 9e24e5, type: NodeType.CHUNK, properties: ['page_content', 'title', 'keyphrases', 'embedding']),\n",
       " Node(id: 3c04a8, type: NodeType.CHUNK, properties: ['page_content', 'title', 'keyphrases', 'embedding']),\n",
       " Node(id: c08e6e, type: NodeType.CHUNK, properties: ['page_content', 'title', 'keyphrases', 'embedding']),\n",
       " Node(id: 8c0208, type: NodeType.CHUNK, properties: ['page_content', 'title', 'keyphrases', 'embedding']),\n",
       " Node(id: 192f19, type: NodeType.CHUNK, properties: ['page_content', 'title', 'keyphrases', 'embedding']),\n",
       " Node(id: 0ae3ac, type: NodeType.CHUNK, properties: ['page_content', 'title', 'keyphrases', 'embedding']),\n",
       " Node(id: 0dc25f, type: NodeType.CHUNK, properties: ['page_content', 'title', 'keyphrases', 'embedding']),\n",
       " Node(id: afb931, type: NodeType.CHUNK, properties: ['page_content', 'embedding', 'title', 'keyphrases']),\n",
       " Node(id: 48afec, type: NodeType.CHUNK, properties: ['page_content', 'embedding', 'title', 'keyphrases']),\n",
       " Node(id: a86678, type: NodeType.CHUNK, properties: ['page_content', 'embedding', 'title', 'keyphrases']),\n",
       " Node(id: 136111, type: NodeType.CHUNK, properties: ['page_content', 'embedding', 'title', 'keyphrases']),\n",
       " Node(id: 599bd3, type: NodeType.CHUNK, properties: ['page_content', 'embedding', 'title', 'keyphrases']),\n",
       " Node(id: e90f4d, type: NodeType.CHUNK, properties: ['page_content', 'embedding', 'title', 'keyphrases']),\n",
       " Node(id: 71f2e3, type: NodeType.CHUNK, properties: ['page_content', 'embedding', 'title', 'keyphrases']),\n",
       " Node(id: fbb56a, type: NodeType.CHUNK, properties: ['page_content', 'keyphrases', 'embedding', 'title']),\n",
       " Node(id: bb4e11, type: NodeType.CHUNK, properties: ['page_content', 'keyphrases', 'embedding', 'title']),\n",
       " Node(id: f7b843, type: NodeType.CHUNK, properties: ['page_content', 'keyphrases', 'embedding', 'title']),\n",
       " Node(id: f945a5, type: NodeType.CHUNK, properties: ['page_content', 'keyphrases', 'embedding', 'title']),\n",
       " Node(id: fd17b4, type: NodeType.CHUNK, properties: ['page_content', 'keyphrases', 'embedding', 'title']),\n",
       " Node(id: 3b36b8, type: NodeType.CHUNK, properties: ['page_content', 'keyphrases', 'embedding', 'title']),\n",
       " Node(id: c31a9c, type: NodeType.CHUNK, properties: ['page_content', 'keyphrases', 'embedding', 'title']),\n",
       " Node(id: d16f6d, type: NodeType.CHUNK, properties: ['page_content', 'title', 'keyphrases', 'embedding']),\n",
       " Node(id: ae47d5, type: NodeType.CHUNK, properties: ['page_content', 'title', 'keyphrases', 'embedding']),\n",
       " Node(id: da9d98, type: NodeType.CHUNK, properties: ['page_content', 'title', 'keyphrases', 'embedding']),\n",
       " Node(id: 08d46b, type: NodeType.CHUNK, properties: ['page_content', 'title', 'keyphrases', 'embedding']),\n",
       " Node(id: f7bb69, type: NodeType.CHUNK, properties: ['page_content', 'title', 'keyphrases', 'embedding']),\n",
       " Node(id: 38795a, type: NodeType.CHUNK, properties: ['page_content', 'title', 'keyphrases', 'embedding'])]"
      ]
     },
     "execution_count": 9,
     "metadata": {},
     "output_type": "execute_result"
    }
   ],
   "source": [
    "generator.knowledge_graph.nodes"
   ]
  },
  {
   "cell_type": "code",
   "execution_count": null,
   "metadata": {},
   "outputs": [],
   "source": [
    "import json\n",
    "\n",
    "with open(\".\\\\eval_result_241018.json\", \"r\") as f:\n",
    "    json_data = json.load(f)\n",
    "\n",
    "context_recall = 0\n",
    "factual_correctness = 0\n",
    "faithfulness = 0\n",
    "semantic_similarity = 0\n",
    "for i in len(json_data[\"context_recall\"]):\n",
    "    context_recall += json_data[\"context_recall\"][i]\n",
    "for i in len(json_data[\"factual_correctness\"]):\n",
    "    factual_correctness += json_data[\"factual_correctness\"][i]\n",
    "for i in len(json_data[\"faithfulness\"]):\n",
    "    faithfulness += json_data[\"faithfulness\"]\n",
    "for i in len(json_data[\"semantic_similarity\"]):\n",
    "    semantic_similarity += json_data[\"semantic_similarity\"][i]\n",
    "\n",
    "print(context_recall/len(json_data[\"context_recall\"]))\n",
    "print(factual_correctness/len(json_data[\"factual_correctness\"]))\n",
    "print(faithfulness/len(json_data[\"faithfulness\"]))\n",
    "print(semantic_similarity/len(json_data[\"semantic_similarity\"]))"
   ]
  }
 ],
 "metadata": {
  "kernelspec": {
   "display_name": "ragtools-all-in-one",
   "language": "python",
   "name": "python3"
  },
  "language_info": {
   "codemirror_mode": {
    "name": "ipython",
    "version": 3
   },
   "file_extension": ".py",
   "mimetype": "text/x-python",
   "name": "python",
   "nbconvert_exporter": "python",
   "pygments_lexer": "ipython3",
   "version": "3.11.9"
  }
 },
 "nbformat": 4,
 "nbformat_minor": 2
}
